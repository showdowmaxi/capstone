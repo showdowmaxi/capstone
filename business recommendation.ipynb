{
 "cells": [
  {
   "cell_type": "markdown",
   "metadata": {},
   "source": [
    "## To start  a business in downtown Toronto or New York, providing some general ideals to business owners is a great source for recommendation. \n",
    "\n",
    "## Analysing the diversity of business in downtown area of two cities, finding the top 5 and least favorte 5 business type in downtown areas of these two cities. Applying K-means to see how smiliar or different of these two cities for business type distributions with best K-mean values. "
   ]
  },
  {
   "cell_type": "markdown",
   "metadata": {},
   "source": [
    "## The data will obtain from Foursquare, two cities geographical coordination within 2000 meters. Since there is limitation on data accessbility as a free account user, the vairation or bias may occure in the analysis."
   ]
  }
 ],
 "metadata": {
  "kernelspec": {
   "display_name": "Python 3",
   "language": "python",
   "name": "python3"
  },
  "language_info": {
   "codemirror_mode": {
    "name": "ipython",
    "version": 3
   },
   "file_extension": ".py",
   "mimetype": "text/x-python",
   "name": "python",
   "nbconvert_exporter": "python",
   "pygments_lexer": "ipython3",
   "version": "3.7.6"
  }
 },
 "nbformat": 4,
 "nbformat_minor": 4
}
