{
 "cells": [
  {
   "cell_type": "markdown",
   "metadata": {},
   "source": [
    "## Background:\n",
    "### To start up a business, conducting research on how local businesses operate is essential for making critical decision for a business model. In this capstone project, two cities will be explored. The downtown Toronto and downtown New York (Manhattan). What is the top 5 and the least favorite 5 of the business categories and their venues?  How similar and different they are?  Provide general recommendation for a start-up business owner after analysis."
   ]
  },
  {
   "cell_type": "markdown",
   "metadata": {},
   "source": [
    "## Data:\n",
    "### The data will obtain from Foursquare API, extracting the data that has the radius of 2000 meters from geographical coordinate of Toronto and Manhattan.  Analyzing the obtained data as a free account user from Foursquare API based on questions from Background.  Applying K-means, to visualize how do business types distribute with the best K-mean value."
   ]
  }
 ],
 "metadata": {
  "kernelspec": {
   "display_name": "Python 3",
   "language": "python",
   "name": "python3"
  },
  "language_info": {
   "codemirror_mode": {
    "name": "ipython",
    "version": 3
   },
   "file_extension": ".py",
   "mimetype": "text/x-python",
   "name": "python",
   "nbconvert_exporter": "python",
   "pygments_lexer": "ipython3",
   "version": "3.7.6"
  }
 },
 "nbformat": 4,
 "nbformat_minor": 4
}
