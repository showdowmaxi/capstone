{
 "cells": [
  {
   "cell_type": "markdown",
   "metadata": {},
   "source": [
    "## How does global pandemic impact on coffee shops in downtown Toronto and New York?\n",
    "\n",
    "### The year 2020, it was a tough year for every business owner. The global pandemic hits, many business owners are not prepared for this unexpected challenging. The majority of them lost their business due to the prevention of  the wide spread of covid-19 policies. However, there are still some business owners keeps their business run.  \n",
    "\n",
    "### For this project, we are going to analysis the coffee shops distributions in downtown Toronto and New York before and during the pandemic, discovering some secrets why some coffee shop owners are capable of making their business still alive while others fail."
   ]
  },
  {
   "cell_type": "markdown",
   "metadata": {},
   "source": [
    "## Data source\n",
    "### The data will mainly retrive from foursquare, for the downdown Toronto and NewYork. The data will be analysis into two parts. The first part is about coffee shop "
   ]
  },
  {
   "cell_type": "code",
   "execution_count": null,
   "metadata": {},
   "outputs": [],
   "source": []
  }
 ],
 "metadata": {
  "kernelspec": {
   "display_name": "Python 3",
   "language": "python",
   "name": "python3"
  },
  "language_info": {
   "codemirror_mode": {
    "name": "ipython",
    "version": 3
   },
   "file_extension": ".py",
   "mimetype": "text/x-python",
   "name": "python",
   "nbconvert_exporter": "python",
   "pygments_lexer": "ipython3",
   "version": "3.7.6"
  }
 },
 "nbformat": 4,
 "nbformat_minor": 4
}
